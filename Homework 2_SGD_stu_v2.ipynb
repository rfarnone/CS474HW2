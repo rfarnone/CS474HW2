{
 "cells": [
  {
   "cell_type": "markdown",
   "metadata": {},
   "source": [
    "## Homework 2: SGD(minibatch) Method for Wine Quality Prediction \n",
    "\n",
    "Add your code to the following sections:\n",
    "\n",
    "    ## add your code here\n",
    "    #--------------------------------\n",
    "\n",
    "    #---------------------------------\n",
    "    \n",
    "Description: In this homework, we will practice cross-validation and implement the stochastic gradient optimization (mini-batch) to solve the wine quality prediction problem. Using the following code as your template. Specific requirements:\n",
    "\n",
    "1. Use all function definitions given in the code (e.g., def SGD(X, Y, lr = 0.001, batch_size = 32, epoch = 100):); and do not change the function names and input arguments.\n",
    "\n",
    "2. Evaluate (Cross-validation) the model trained using GD (20 points)\n",
    "\n",
    "3. SGD implementation. 40 pts\n",
    "   \n",
    "4. Calculate and print out the MSE and MAE values of SGD for the training and test sets (15 points)\n",
    "5. Plot the loss curve of the SGD. (5 points)\n",
    "6. Plot the mse curves on the training and test sets using different models (w_hist). (20 points)\n",
    "\n",
    "### Common mistakes\n",
    "    \n",
    "1. Call GD and SGD using the whole dataset\n",
    "\n",
    "    -- GD and SGD are used to train the model (learn w); and we should call them using the training sets\n",
    "   \n",
    "2. Calculate gradient using the whole training set for SGD\n",
    "    \n",
    "    -- In SGD, update gradient only using mini-batches\n",
    "  \n",
    "3. Calculate the loss of each epoch using the average of all minibatches\n",
    "    \n",
    "    -- should use the w of the last mini-batch and the whole training set to calculate the loss  \n",
    "   \n",
    "4. Mix concepts of loss function and evaulation metrics\n",
    "    -- loss function: for optimization purpose (gradient). We use the sum of square errors in this homework. L = 1/2 * sum(y_hat_i - y_i)^2\n",
    "    \n",
    "    -- evaluation metrics: mse and mae: mse = 1/m * sum(y_hat_i - y_i)^2, mae = 1/m * sum(abs(y_hat_i - y_i))"
   ]
  },
  {
   "cell_type": "markdown",
   "metadata": {},
   "source": [
    "### 1. Load data, implement the model, loss function and GD "
   ]
  },
  {
   "cell_type": "code",
   "execution_count": 1,
   "metadata": {
    "tags": []
   },
   "outputs": [
    {
     "name": "stdout",
     "output_type": "stream",
     "text": [
      "Data shape: X: (4898, 11) Y: (4898,)\n"
     ]
    }
   ],
   "source": [
    "import pandas as pd\n",
    "import numpy as np\n",
    "from matplotlib import pyplot as plt\n",
    "\n",
    "## (1) Data preparation\n",
    "df=pd.read_csv('winequality-white.csv', sep = ';')\n",
    "df\n",
    "X = df.values[:, :11] #input feature vectors\n",
    "Y = df.values[:, 11] # target values\n",
    "print('Data shape:', 'X:', X.shape, 'Y:', Y.shape)\n",
    "\n",
    "# data normalization. Please use X1 rather than X in the rest of this homework\n",
    "min_vals = np.min(X, axis = 0)\n",
    "max_vals = np.max(X, axis = 0)\n",
    "X1 = (X-min_vals)/(max_vals-min_vals)\n",
    "\n",
    "##(2) Assume a linear mode that y = w0*1 + w_1*x_1 +w_2*x_2+...+ w_11*x_11\n",
    "def predict(X, w):\n",
    "    '''\n",
    "    X: input feature vectors:n_samples * n_features\n",
    "    w: weights\n",
    "    \n",
    "    return Y_hat\n",
    "    '''\n",
    "    # \n",
    "    Y_hat = np.zeros((X.shape[0]))\n",
    "    for idx, x in enumerate(X):          \n",
    "        y_hat = w[0] + np.dot(w[1:].T, np.c_[x]) # linear model\n",
    "        Y_hat[idx] = y_hat    \n",
    "    return Y_hat\n",
    "\n",
    "## (3) Loss function: L = 1/2 * sum(y_hat_i - y_i)^2\n",
    "def loss(w, X, Y):\n",
    "    '''\n",
    "    w: weights\n",
    "    X: input feature vectors\n",
    "    Y: targets\n",
    "    '''\n",
    "    Y_hat = predict(X, w)\n",
    "    loss = 1/2* np.sum(np.square(Y - Y_hat))\n",
    "    \n",
    "    return loss\n",
    "\n",
    "# Optimization Algo 1: Gradient Descent\n",
    "def GD(X, Y, lr = 0.001, delta = 0.01, max_iter = 100):\n",
    "    '''\n",
    "    X: training data\n",
    "    Y: training target\n",
    "    lr: learning rate\n",
    "    max_iter: the max iterations\n",
    "    '''\n",
    "    \n",
    "    m = len(Y)\n",
    "    b = np.reshape(Y, [Y.shape[0],1])\n",
    "    w = np.random.rand(X.shape[1] + 1, 1) #w^0\n",
    "    A = np.c_[np.ones((m, 1)), X]\n",
    "    gradient = A.T.dot(np.dot(A, w)-b)\n",
    "    \n",
    "    loss_hist = np.zeros(max_iter) # history of loss\n",
    "    w_hist = np.zeros((max_iter, w.shape[0])) # history of weight\n",
    "    loss_w = 0\n",
    "    i = 0                  \n",
    "    while(np.linalg.norm(gradient) > delta) and (i < max_iter):\n",
    "        w_hist[i,:] = w.T\n",
    "        loss_w = loss(w, X, Y)\n",
    "        print(i, 'loss:', loss_w)\n",
    "        loss_hist[i] = loss_w\n",
    "        \n",
    "        w = w - lr*gradient        \n",
    "        gradient = A.T.dot(np.dot(A, w)-b) # update the gradient using new w\n",
    "        i = i + 1\n",
    "        \n",
    "    w_star = w  \n",
    "    return w_star, loss_hist, w_hist"
   ]
  },
  {
   "cell_type": "markdown",
   "metadata": {},
   "source": [
    "### 2. Model evaluation using cross-validation (25 points)"
   ]
  },
  {
   "cell_type": "markdown",
   "metadata": {},
   "source": [
    "#### 2.1 Split the dataset (X1, Y) into a training (70%) set, (X_train, y_train), and a test (30%) set, (X_test, y_test). (5 points)"
   ]
  },
  {
   "cell_type": "code",
   "execution_count": 2,
   "metadata": {},
   "outputs": [
    {
     "name": "stdout",
     "output_type": "stream",
     "text": [
      "(3428, 11) (1470, 11)\n"
     ]
    }
   ],
   "source": [
    "from sklearn.model_selection import train_test_split\n",
    "\n",
    "## add your code here\n",
    "#-----------------------\n",
    "X_train, X_test, y_train, y_test = train_test_split(X1, Y, test_size=0.3, random_state=42)\n",
    "\n",
    "print(X_train.shape, X_test.shape)\n",
    "#---------------------------------"
   ]
  },
  {
   "cell_type": "markdown",
   "metadata": {},
   "source": [
    "#### 2.2 Model training using the GD function with different learning rate (10 points )"
   ]
  },
  {
   "cell_type": "code",
   "execution_count": 3,
   "metadata": {},
   "outputs": [
    {
     "name": "stdout",
     "output_type": "stream",
     "text": [
      "0 loss: 40050.885606190524\n",
      "1 loss: 7540.272575463837\n"
     ]
    },
    {
     "name": "stderr",
     "output_type": "stream",
     "text": [
      "C:\\Users\\kingj\\AppData\\Local\\Temp\\ipykernel_22684\\1105346865.py:29: DeprecationWarning: Conversion of an array with ndim > 0 to a scalar is deprecated, and will error in future. Ensure you extract a single element from your array before performing this operation. (Deprecated NumPy 1.25.)\n",
      "  Y_hat[idx] = y_hat\n"
     ]
    },
    {
     "name": "stdout",
     "output_type": "stream",
     "text": [
      "2 loss: 2389.3401297293376\n",
      "3 loss: 1568.8326015322214\n",
      "4 loss: 1433.845607177889\n",
      "5 loss: 1407.4866647833037\n",
      "6 loss: 1398.445651423013\n",
      "7 loss: 1392.2669481818323\n",
      "8 loss: 1386.6590140784197\n",
      "9 loss: 1381.2556602078537\n",
      "10 loss: 1375.995536439962\n",
      "11 loss: 1370.8656451788\n",
      "12 loss: 1365.8607433441048\n",
      "13 loss: 1360.9769136463808\n",
      "14 loss: 1356.2105440242412\n",
      "15 loss: 1351.558163141713\n",
      "16 loss: 1347.016411469419\n",
      "17 loss: 1342.5820339150916\n",
      "18 loss: 1338.2518759520603\n",
      "19 loss: 1334.0228803859434\n",
      "20 loss: 1329.8920843042747\n",
      "21 loss: 1325.8566161344488\n",
      "22 loss: 1321.913692795687\n",
      "23 loss: 1318.060616940362\n",
      "24 loss: 1314.2947742816082\n",
      "25 loss: 1310.6136310044772\n",
      "26 loss: 1307.0147312580195\n",
      "27 loss: 1303.495694725756\n",
      "28 loss: 1300.0542142720906\n",
      "29 loss: 1296.6880536622857\n",
      "30 loss: 1293.3950453537007\n",
      "31 loss: 1290.1730883560635\n",
      "32 loss: 1287.0201461586169\n",
      "33 loss: 1283.9342447220452\n",
      "34 loss: 1280.9134705331594\n",
      "35 loss: 1277.955968720371\n",
      "36 loss: 1275.0599412280594\n",
      "37 loss: 1272.2236450479877\n",
      "38 loss: 1269.4453905059822\n",
      "39 loss: 1266.7235396021474\n",
      "40 loss: 1264.0565044029431\n",
      "41 loss: 1261.442745483499\n",
      "42 loss: 1258.8807704185986\n",
      "43 loss: 1256.3691323208054\n",
      "44 loss: 1253.9064284242643\n",
      "45 loss: 1251.4912987127402\n",
      "46 loss: 1249.122424590519\n",
      "47 loss: 1246.7985275948238\n",
      "48 loss: 1244.5183681484523\n",
      "49 loss: 1242.2807443513752\n",
      "50 loss: 1240.0844908100767\n",
      "51 loss: 1237.9284775034575\n",
      "52 loss: 1235.8116086841592\n",
      "53 loss: 1233.7328218141965\n",
      "54 loss: 1231.6910865338314\n",
      "55 loss: 1229.6854036626405\n",
      "56 loss: 1227.714804231783\n",
      "57 loss: 1225.7783485464745\n",
      "58 loss: 1223.8751252777404\n",
      "59 loss: 1222.0042505825215\n",
      "60 loss: 1220.1648672512504\n",
      "61 loss: 1218.3561438820361\n",
      "62 loss: 1216.5772740806296\n",
      "63 loss: 1214.8274756853602\n",
      "64 loss: 1213.1059900162616\n",
      "65 loss: 1211.4120811476355\n",
      "66 loss: 1209.7450352033156\n",
      "67 loss: 1208.1041596739246\n",
      "68 loss: 1206.488782755434\n",
      "69 loss: 1204.8982527083645\n",
      "70 loss: 1203.3319372369788\n",
      "71 loss: 1201.7892228878427\n",
      "72 loss: 1200.269514467146\n",
      "73 loss: 1198.772234476205\n",
      "74 loss: 1197.296822564566\n",
      "75 loss: 1195.8427350001712\n",
      "76 loss: 1194.409444156047\n",
      "77 loss: 1192.9964380129961\n",
      "78 loss: 1191.6032196778046\n",
      "79 loss: 1190.2293069164625\n",
      "80 loss: 1188.8742317019426\n",
      "81 loss: 1187.5375397760747\n",
      "82 loss: 1186.2187902250782\n",
      "83 loss: 1184.9175550683235\n",
      "84 loss: 1183.6334188599114\n",
      "85 loss: 1182.3659783026674\n",
      "86 loss: 1181.1148418741645\n",
      "87 loss: 1179.8796294643994\n",
      "88 loss: 1178.6599720247536\n",
      "89 loss: 1177.4555112278922\n",
      "90 loss: 1176.265899138256\n",
      "91 loss: 1175.090797892814\n",
      "92 loss: 1173.9298793917599\n",
      "93 loss: 1172.7828249988381\n",
      "94 loss: 1171.6493252510004\n",
      "95 loss: 1170.5290795771007\n",
      "96 loss: 1169.421796025347\n",
      "97 loss: 1168.3271909992345\n",
      "98 loss: 1167.2449890016962\n",
      "99 loss: 1166.1749223872175\n"
     ]
    }
   ],
   "source": [
    "## add your code here\n",
    "#-----------------------\n",
    "lr = 0.0001\n",
    "\n",
    "w_star, loss_hist, w_hist = GD(X_train, y_train, lr=lr, delta=0.01, max_iter=100)\n",
    "#---------------------------------"
   ]
  },
  {
   "cell_type": "code",
   "execution_count": 4,
   "metadata": {},
   "outputs": [
    {
     "name": "stdout",
     "output_type": "stream",
     "text": [
      "0 loss: 34991.52909728221\n"
     ]
    },
    {
     "name": "stderr",
     "output_type": "stream",
     "text": [
      "C:\\Users\\kingj\\AppData\\Local\\Temp\\ipykernel_22684\\1105346865.py:29: DeprecationWarning: Conversion of an array with ndim > 0 to a scalar is deprecated, and will error in future. Ensure you extract a single element from your array before performing this operation. (Deprecated NumPy 1.25.)\n",
      "  Y_hat[idx] = y_hat\n"
     ]
    },
    {
     "name": "stdout",
     "output_type": "stream",
     "text": [
      "1 loss: 31062.113920858646\n",
      "2 loss: 27591.63113240123\n",
      "3 loss: 24526.47433254288\n",
      "4 loss: 21819.298723886714\n",
      "5 loss: 19428.28971211241\n",
      "6 loss: 17316.516939587695\n",
      "7 loss: 15451.363772370909\n",
      "8 loss: 13804.023427121072\n",
      "9 loss: 12349.05395390813\n",
      "10 loss: 11063.985200142804\n",
      "11 loss: 9928.971683867749\n",
      "12 loss: 8926.486013875578\n",
      "13 loss: 8041.048120500888\n",
      "14 loss: 7258.986114149137\n",
      "15 loss: 6568.225077221545\n",
      "16 loss: 5958.100526620037\n",
      "17 loss: 5419.193665136003\n",
      "18 loss: 4943.18587662883\n",
      "19 loss: 4522.730217185044\n",
      "20 loss: 4151.337917008654\n",
      "21 loss: 3823.2781396843566\n",
      "22 loss: 3533.489450259709\n",
      "23 loss: 3277.5016244743842\n",
      "24 loss: 3051.3665912181914\n",
      "25 loss: 2851.5974413928843\n",
      "26 loss: 2675.1145609653886\n",
      "27 loss: 2519.1980560570764\n",
      "28 loss: 2381.4457351152887\n",
      "29 loss: 2259.735999061015\n",
      "30 loss: 2152.1950661268334\n",
      "31 loss: 2057.1680250629415\n",
      "32 loss: 1973.1932695311416\n",
      "33 loss: 1898.9799187403696\n",
      "34 loss: 1833.3878755098806\n",
      "35 loss: 1775.4102136900938\n",
      "36 loss: 1724.1576228558413\n",
      "37 loss: 1678.8446699682086\n",
      "38 loss: 1638.7776657703364\n",
      "39 loss: 1603.3439484730388\n",
      "40 loss: 1572.0024191808673\n",
      "41 loss: 1544.2751828465916\n",
      "42 loss: 1519.740165620647\n",
      "43 loss: 1498.024594545784\n",
      "44 loss: 1478.7992388689752\n",
      "45 loss: 1461.7733240083548\n",
      "46 loss: 1446.6900396043861\n",
      "47 loss: 1433.322572262054\n",
      "48 loss: 1421.4706016965124\n",
      "49 loss: 1410.9572061534145\n",
      "50 loss: 1401.6261292977874\n",
      "51 loss: 1393.3393663493957\n",
      "52 loss: 1385.9750321743682\n",
      "53 loss: 1379.425478398628\n",
      "54 loss: 1373.5956304556394\n",
      "55 loss: 1368.4015188786032\n",
      "56 loss: 1363.7689821479883\n",
      "57 loss: 1359.6325210555424\n",
      "58 loss: 1355.9342868865938\n",
      "59 loss: 1352.6231877897317\n",
      "60 loss: 1349.6540995287555\n",
      "61 loss: 1346.9871684243124\n",
      "62 loss: 1344.5871957168224\n",
      "63 loss: 1342.4230938401174\n",
      "64 loss: 1340.4674062061172\n",
      "65 loss: 1338.695883082012\n",
      "66 loss: 1337.0871070079534\n",
      "67 loss: 1335.622161968573\n",
      "68 loss: 1334.2843412075836\n",
      "69 loss: 1333.0588891716698\n",
      "70 loss: 1331.9327735971387\n",
      "71 loss: 1330.8944842184387\n",
      "72 loss: 1329.9338549889285\n",
      "73 loss: 1329.0419070675014\n",
      "74 loss: 1328.210710145468\n",
      "75 loss: 1327.4332599714253\n",
      "76 loss: 1326.7033701820737\n",
      "77 loss: 1326.0155767679528\n",
      "78 loss: 1325.365053698239\n",
      "79 loss: 1324.7475384011595\n",
      "80 loss: 1324.1592659488103\n",
      "81 loss: 1323.5969109296448\n",
      "82 loss: 1323.0575361106605\n",
      "83 loss: 1322.5385470961992\n",
      "84 loss: 1322.0376522829133\n",
      "85 loss: 1321.5528274922701\n",
      "86 loss: 1321.0822847342247\n",
      "87 loss: 1320.6244446195115\n",
      "88 loss: 1320.1779119943694\n",
      "89 loss: 1319.7414544213034\n",
      "90 loss: 1319.3139831734368\n",
      "91 loss: 1318.8945364488532\n",
      "92 loss: 1318.4822645456252\n",
      "93 loss: 1318.0764167684922\n",
      "94 loss: 1317.6763298649335\n",
      "95 loss: 1317.2814178119845\n",
      "96 loss: 1316.8911627960224\n",
      "97 loss: 1316.5051072461724\n",
      "98 loss: 1316.1228467982683\n",
      "99 loss: 1315.7440240806657\n"
     ]
    }
   ],
   "source": [
    "## add your code here\n",
    "#-----------------------\n",
    "lr = 0.00001\n",
    "\n",
    "w_star, loss_hist, w_hist = GD(X_train, y_train, lr=lr, delta=0.01, max_iter=100)\n",
    "#---------------------------------"
   ]
  },
  {
   "cell_type": "markdown",
   "metadata": {},
   "source": [
    "##### What do you observed from the results of two learning rates?\n",
    "Add your response here:\n",
    "\n",
    "The first learning rate started and ended with lower loss than the second one. The second one dropped lower faster, but leveled out sooner.\n",
    "\n",
    "\n",
    "\n"
   ]
  },
  {
   "cell_type": "markdown",
   "metadata": {},
   "source": [
    "#### 2.3. Evaluate the trained model (w_star) using the MSE and MAE on the training set and test set, respectively. (10 points)"
   ]
  },
  {
   "cell_type": "code",
   "execution_count": 5,
   "metadata": {},
   "outputs": [
    {
     "name": "stdout",
     "output_type": "stream",
     "text": [
      "training mse: 0.7674260928972677 and training mae:0.6843228272657004\n",
      "test mse: 0.7607787261902167 and test mae:0.6786902829871146\n"
     ]
    },
    {
     "name": "stderr",
     "output_type": "stream",
     "text": [
      "C:\\Users\\kingj\\AppData\\Local\\Temp\\ipykernel_22684\\1105346865.py:29: DeprecationWarning: Conversion of an array with ndim > 0 to a scalar is deprecated, and will error in future. Ensure you extract a single element from your array before performing this operation. (Deprecated NumPy 1.25.)\n",
      "  Y_hat[idx] = y_hat\n",
      "C:\\Users\\kingj\\AppData\\Local\\Temp\\ipykernel_22684\\1105346865.py:29: DeprecationWarning: Conversion of an array with ndim > 0 to a scalar is deprecated, and will error in future. Ensure you extract a single element from your array before performing this operation. (Deprecated NumPy 1.25.)\n",
      "  Y_hat[idx] = y_hat\n"
     ]
    }
   ],
   "source": [
    "from sklearn.metrics import mean_squared_error, mean_absolute_error\n",
    "#training error: MSE, MAE\n",
    "## add your code here\n",
    "#-----------------------\n",
    "def evaluate_model(w_star, X, Y):\n",
    "    y_pred = predict(X, w_star) \n",
    "\n",
    "    mse = mean_squared_error(Y, y_pred)\n",
    "    mae = mean_absolute_error(Y, y_pred)\n",
    "    \n",
    "    return mse, mae\n",
    "\n",
    "mse_train, mae_train = evaluate_model(w_star, X_train, y_train)\n",
    "\n",
    "print('training mse: {} and training mae:{}'.format(mse_train, mae_train))\n",
    "#---------------------------------\n",
    "\n",
    "\n",
    "## test error: MAE, MSE\n",
    "## add your code here\n",
    "#-----------------------\n",
    "mse_test, mae_test = evaluate_model(w_star, X_test, y_test)\n",
    "\n",
    "\n",
    "print('test mse: {} and test mae:{}'.format(mse_test, mae_test))\n",
    "#---------------------------------"
   ]
  },
  {
   "cell_type": "markdown",
   "metadata": {},
   "source": [
    "### 3. SGD implementation (35 points)\n",
    "Use the SGD function definition given in the code (def SGD(X, Y, lr = 0.001, batch_size = 32, epoch = 100):); and do not change it."
   ]
  },
  {
   "cell_type": "code",
   "execution_count": 12,
   "metadata": {
    "scrolled": true
   },
   "outputs": [],
   "source": [
    "import random\n",
    "def SGD(X, Y, lr = 0.001, batch_size = 32, epoch = 100): \n",
    "    '''Implement the minibatch Gradient Desent approach\n",
    "    \n",
    "        X: training data\n",
    "        Y: training target\n",
    "        lr: learning rate\n",
    "        batch_size: batch size\n",
    "        epoch: number of max epoches\n",
    "        \n",
    "        return: w_star, w_hist, loss_hist\n",
    "    '''\n",
    "    m = len(Y)\n",
    "    np.random.seed(9)\n",
    "    w = np.random.rand(X.shape[1]+1, 1)    #(12,1) values in [0, 1)\n",
    "    w_hist = np.zeros((epoch, w.shape[0])) # (epoch,12) \n",
    "    loss_hist = np.zeros(epoch)            # (epoch,)\n",
    "   \n",
    "    \n",
    "    ## add your code here\n",
    "    #-----------------------\n",
    "    A = np.c_[np.ones((m, 1)), X]\n",
    "    b = np.reshape(Y, [Y.shape[0],1])\n",
    "    X_shuffled = np.copy(X)\n",
    "    Y_shuffled = np.copy(Y)\n",
    "    \n",
    "    for i in range(epoch):\n",
    "        #(1) Shuffle data (X and Y) at the beginning of each epoch. (5 points)\n",
    "        random.shuffle(X_shuffled)\n",
    "        random.shuffle(Y_shuffled)\n",
    "        \n",
    "        #(2) go through all minibatches and update w. (25 points)\n",
    "        for b in range(int(m/batch_size)): \n",
    "            #prepare the bth minibatch X_batch and Y_batch. \n",
    "            X_batch = X_shuffled[b * batch_size:(b + 1) * batch_size]\n",
    "            Y_batch = Y_shuffled[b * batch_size:(b + 1) * batch_size].reshape(-1, 1)\n",
    "\n",
    "            #print(\"Shape of X_batch:\", X_batch.shape)\n",
    "            #prepare A and b for current minibatch. \n",
    "            Y_pred = predict(X_batch, w)\n",
    "            \n",
    "            #gradient calcualation and w update. \n",
    "            error = Y_pred - Y_batch\n",
    "            gradient = A.T.dot(np.dot(A, w)-b)\n",
    "            #gradient = (1 / batch_size) * np.dot(X_batch.T, error)\n",
    "\n",
    "            w -= lr * gradient            \n",
    "            \n",
    "        ## (3) Save the loss(on whole training set) and the weight for current epoch. 5 points\n",
    "        Y_pred_all = predict(X, w) \n",
    "        loss_w = loss(w, X, Y)\n",
    "        loss_hist[i] = loss_w\n",
    "        w_hist[i] = w.flatten()\n",
    "        \n",
    "        print(i, loss_hist[i])\n",
    "        \n",
    "        ##(4) Decay learning rate at the end of each epoch. \n",
    "        lr = lr * 0.9\n",
    "    #---------------------------------\n",
    "    \n",
    "    w_star = w\n",
    "    return w_star, w_hist, loss_hist  "
   ]
  },
  {
   "cell_type": "markdown",
   "metadata": {},
   "source": [
    "### 4. Calculate and print out the MSE and MAE values of SGD for the training and test sets (15 points)"
   ]
  },
  {
   "cell_type": "code",
   "execution_count": 14,
   "metadata": {
    "scrolled": true
   },
   "outputs": [
    {
     "name": "stdout",
     "output_type": "stream",
     "text": [
      "Shape of X_train: (3428, 11)\n",
      "Shape of y_train: (3428,)\n"
     ]
    },
    {
     "name": "stderr",
     "output_type": "stream",
     "text": [
      "C:\\Users\\kingj\\AppData\\Local\\Temp\\ipykernel_22684\\1105346865.py:29: DeprecationWarning: Conversion of an array with ndim > 0 to a scalar is deprecated, and will error in future. Ensure you extract a single element from your array before performing this operation. (Deprecated NumPy 1.25.)\n",
      "  Y_hat[idx] = y_hat\n"
     ]
    },
    {
     "name": "stdout",
     "output_type": "stream",
     "text": [
      "0 16898834.92515845\n",
      "1 16839771.91383601\n",
      "2 16772126.610578831\n",
      "3 16696207.562616337\n",
      "4 16611571.071184073\n",
      "5 16517490.741415696\n",
      "6 16413080.699324751\n",
      "7 16297328.960014641\n",
      "8 16169106.188066382\n",
      "9 16027166.03059158\n",
      "10 15870142.109283809\n",
      "11 15696543.762021055\n",
      "12 15504751.69994234\n",
      "13 15293014.646965854\n",
      "14 15059448.934817921\n",
      "15 14802046.236547083\n",
      "16 14518702.20344485\n",
      "17 14207291.338333122\n",
      "18 13865826.00587039\n",
      "19 13492737.36359017\n",
      "20 13087288.546877164\n",
      "21 12650072.571235895\n",
      "22 12183478.783144072\n",
      "23 11691970.468920562\n",
      "24 11182036.943734668\n",
      "25 10661770.711739924\n",
      "26 10140139.581919905\n",
      "27 9626119.420842022\n",
      "28 9127883.01298698\n",
      "29 8652199.113380473\n",
      "30 8204112.951662318\n",
      "31 7786896.420610957\n",
      "32 7402201.812074053\n",
      "33 7050334.5492602475\n",
      "34 6730569.123511445\n",
      "35 6441454.261026405\n",
      "36 6181076.680560543\n",
      "37 5947271.415325789\n",
      "38 5737778.809864001\n",
      "39 5550354.753585664\n",
      "40 5382843.153245601\n",
      "41 5233219.700472426\n",
      "42 5099614.869171519\n",
      "43 4980322.548408252\n",
      "44 4873799.199153137\n",
      "45 4778657.108909221\n",
      "46 4693654.264853023\n",
      "47 4617682.564399406\n",
      "48 4549755.494607773\n",
      "49 4488995.994179016\n",
      "True values (first 10): [7. 8. 8. 5. 7. 6. 5. 4. 6. 5.]\n",
      "Predicted values (first 10): [56.86240688 57.05513467 57.56992479 57.16719104 57.4426977  58.16130053\n",
      " 56.74518187 56.74457013 56.75521569 57.55995339]\n",
      "Training Set MSE: 2619.0174995210127\n",
      "Training Set MAE: 51.16671546970211\n",
      "Test Set MSE: 2614.452536092702\n",
      "Test Set MAE: 51.12236839686246\n"
     ]
    }
   ],
   "source": [
    "batch_size = 32\n",
    "n_epochs = 50\n",
    "\n",
    "print(\"Shape of X_train:\", X_train.shape)\n",
    "print(\"Shape of y_train:\", y_train.shape)\n",
    "\n",
    "w = np.zeros((X_train.shape[1], 1))\n",
    "#train model using SGD\n",
    "w_star_SGD, w_hist_SGD, loss_hist_SGD = SGD(X_train, y_train, lr = 0.0001, batch_size = batch_size, epoch = n_epochs)\n",
    "\n",
    "## add your code here\n",
    "#-----------------------\n",
    "#(1) print out the predicted wine quality values and the true quality \n",
    "# values of the first 10 data samples in the test dataset.  5 points\n",
    "y_pred_test = predict(X_test, w_star_SGD).flatten()\n",
    "print(\"True values (first 10):\", y_test[:10])\n",
    "print(\"Predicted values (first 10):\", y_pred_test[:10])\n",
    "\n",
    "#(2) model's MSE and MAE on the training set using w_star_SGD. 5 points\n",
    "y_pred_train = predict(X_train, w_star_SGD).flatten()\n",
    "mse_train = np.mean((y_train - y_pred_train) ** 2)\n",
    "mae_train = np.mean(np.abs(y_train - y_pred_train))\n",
    "print(\"Training Set MSE:\", mse_train)\n",
    "print(\"Training Set MAE:\", mae_train)\n",
    "\n",
    "#(3) model's MSE and MAE on the test set. 5 points\n",
    "mse_test = np.mean((y_test - y_pred_test) ** 2)\n",
    "mae_test = np.mean(np.abs(y_test - y_pred_test))\n",
    "print(\"Test Set MSE:\", mse_test)\n",
    "print(\"Test Set MAE:\", mae_test)\n",
    "\n",
    "#---------------------------------"
   ]
  },
  {
   "cell_type": "markdown",
   "metadata": {},
   "source": [
    "### 5. Plot the loss curve of SGD returned from the training. (5 points)\n",
    "Plot the values in loss_hist_SGD. The horizontal axis is epoch."
   ]
  },
  {
   "cell_type": "code",
   "execution_count": 16,
   "metadata": {},
   "outputs": [
    {
     "data": {
      "image/png": "[encoded data removed]",
      "text/plain": [
       "<Figure size 1000x500 with 1 Axes>"
      ]
     },
     "metadata": {},
     "output_type": "display_data"
    }
   ],
   "source": [
    "## add your code here\n",
    "#-----------------------\n",
    "import matplotlib.pyplot as plt\n",
    "\n",
    "plt.figure(figsize=(10, 5))\n",
    "plt.plot(range(n_epochs), loss_hist_SGD, label='Loss', color='blue')\n",
    "plt.title('Loss History during Training')\n",
    "plt.xlabel('Epoch')\n",
    "plt.ylabel('Loss')\n",
    "plt.legend()\n",
    "plt.grid()\n",
    "plt.show()\n",
    "\n",
    "#---------------------------------"
   ]
  },
  {
   "cell_type": "markdown",
   "metadata": {},
   "source": [
    "### 6. Plot the MSE curves on the training and test sets using different models (w_hist). (20 points)\n",
    "- each row in w_hist_SGD defines one linear model\n",
    "- apply each linear model to predict results for the training and test sets\n",
    "- calculate mse for both training and test sets.\n",
    "\n",
    "~~~python\n",
    "\n",
    "#sample code\n",
    "    for i in range(n_epochs):\n",
    "        #y_train_SGD_pred = # call predict using X_train and w_hist_SGD[i]\n",
    "        #y_test_SGD_pred = # call predict using X_test and w_hist_SGD[i]\n",
    "\n",
    "        #mse_SGD_train[i] = \n",
    "        #mse_SGD_test[i] = \n",
    "\n",
    "    #plot the mse curve on the training set\n",
    "    #plot the mse curve on the test set\n",
    "~~~"
   ]
  },
  {
   "cell_type": "code",
   "execution_count": 18,
   "metadata": {},
   "outputs": [
    {
     "name": "stderr",
     "output_type": "stream",
     "text": [
      "C:\\Users\\kingj\\AppData\\Local\\Temp\\ipykernel_22684\\1105346865.py:29: DeprecationWarning: Conversion of an array with ndim > 0 to a scalar is deprecated, and will error in future. Ensure you extract a single element from your array before performing this operation. (Deprecated NumPy 1.25.)\n",
      "  Y_hat[idx] = y_hat\n"
     ]
    },
    {
     "data": {
      "image/png": "[encoded data removed]",
      "text/plain": [
       "<Figure size 1200x600 with 2 Axes>"
      ]
     },
     "metadata": {},
     "output_type": "display_data"
    }
   ],
   "source": [
    "mse_SGD_train=np.zeros(n_epochs)\n",
    "mse_SGD_test=np.zeros(n_epochs)\n",
    "\n",
    "## add your code here\n",
    "#-----------------------\n",
    "for i in range(n_epochs):\n",
    "    y_train_SGD_pred = predict(X_train, w_hist_SGD[i]).flatten()\n",
    "    y_test_SGD_pred = predict(X_test, w_hist_SGD[i]).flatten()\n",
    "    mse_SGD_train[i] = np.mean((y_train - y_train_SGD_pred) ** 2)\n",
    "    mse_SGD_test[i] = np.mean((y_test - y_test_SGD_pred) ** 2)\n",
    "\n",
    "plt.figure(figsize=(12, 6))\n",
    "\n",
    "plt.subplot(1, 2, 1)\n",
    "plt.plot(range(n_epochs), mse_SGD_train, label='Training MSE', color='blue')\n",
    "plt.title('Training Set MSE over Epochs')\n",
    "plt.xlabel('Epoch')\n",
    "plt.ylabel('MSE')\n",
    "plt.grid()\n",
    "plt.legend()\n",
    "\n",
    "plt.subplot(1, 2, 2)\n",
    "plt.plot(range(n_epochs), mse_SGD_test, label='Test MSE', color='red')\n",
    "plt.title('Test Set MSE over Epochs')\n",
    "plt.xlabel('Epoch')\n",
    "plt.ylabel('MSE')\n",
    "plt.grid()\n",
    "plt.legend()\n",
    "\n",
    "plt.tight_layout()\n",
    "plt.show()\n",
    "\n",
    "#---------------------------------"
   ]
  },
  {
   "cell_type": "code",
   "execution_count": null,
   "metadata": {
    "collapsed": true,
    "jupyter": {
     "outputs_hidden": true
    }
   },
   "outputs": [],
   "source": []
  }
 ],
 "metadata": {
  "kernelspec": {
   "display_name": "Python 3 (ipykernel)",
   "language": "python",
   "name": "python3"
  },
  "language_info": {
   "codemirror_mode": {
    "name": "ipython",
    "version": 3
   },
   "file_extension": ".py",
   "mimetype": "text/x-python",
   "name": "python",
   "nbconvert_exporter": "python",
   "pygments_lexer": "ipython3",
   "version": "3.12.4"
  }
 },
 "nbformat": 4,
 "nbformat_minor": 4
}
